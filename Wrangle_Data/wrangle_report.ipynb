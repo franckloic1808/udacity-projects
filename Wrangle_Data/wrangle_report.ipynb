{
 "cells": [
  {
   "cell_type": "markdown",
   "metadata": {},
   "source": [
    "## Reporting: wragle_report\n",
    "* Create a **300-600 word written report** called \"wrangle_report.pdf\" or \"wrangle_report.html\" that briefly describes your wrangling efforts. This is to be framed as an internal document."
   ]
  },
  {
   "cell_type": "markdown",
   "metadata": {},
   "source": [
    "Ce rapport explique l'effort disputé d'analyse et de visualisation du tweet archivé des WeRateDogs. L'archive Twitter de WeRateDogs contient des données de tweet de base pour les 5000+ de leurs tweets, mais pas tout. Le processus d'acquisition est divisé en trois étapes :\n",
    "\n",
    "<ul>\n",
    "    <li><b>Collecte</b> : Les données utilisées pour ce projet ont été recueillies à partir de trois sources différentes. Les données et leurs sources sont:\n",
    "        <ol>\n",
    "            <li>twitter-archive-enhanced.csv: Ce fichier a été mis à notre disposition par l'équipe udacity et je l'ai téléchargé manuellement en utilisant ce lien https://d17h27t6h515a5.cloudfront.net/topher/2017/August/59a4e958_twitter-archive-enhanced/twitter-archive-enhanced.csv, J'ai ensuite lu et téléchargé les données en tant que df_twitter_archive sur pandas DataFrame. Le fichier contient tweet_id, name, rating_denominator, rating_numerator, etc.</li>\n",
    "            <li>image_prediction.tsv: Il est hébergé sur les serveurs d'Udacity et je l'ai téléchargé par programmation à l'aide de la bibliothèque Requests et de l'URL suivante : https://d17h27t6h515a5.cloudfront.net/topher/2017/August/599fd2ad_image-predictions/image-predictions.tsv, Je l'ai ensuite lu dans Pandas DataFrame en tant que df_image_pred.\n",
    "            </li>\n",
    "            <li>tweet-json.txt: Je n'ai pas pu créer de compte de développeur Twitter, j'ai donc utilisé le fichier tweet json fourni par udacity, puis j'ai lu ce fichier tweet-json.txt ligne par ligne dans un pandas DataFrame avec (au minimum) id, retweet_count et favorite_count comme df_tweet_api.</li>\n",
    "        </ol>\n",
    "    </li>\n",
    "    <li><b>Évaluation</b> : après avoir rassemblé les trois éléments de données, je les ai évalués visuellement et par programme pour les problèmes de qualité et de propreté. Chaque élément de données recueillies a été affiché dans le Jupyter Notebook pour une évaluation visuelle. Microsoft Excel a également été utilisé pour accéder visuellement aux données recueillies. Les fonctions Pandas ont également été utilisées pour évaluer les données par programmation. Voici les problèmes de qualité et d'ordre détectés dans les données :\n",
    "        \n",
    "<h3>Quality issues</h3>\n",
    "\n",
    "<ol>\n",
    "    <li>Il y'a des valeurs manquantes dans les colonnes in_reply_to_status_id, in_reply_to_user_id, retweeted_status_id, retweeted_status_user_id, retweeted_status_timestamp, expanded_urls du DataFrame df_twitter_archive</li>\n",
    "\n",
    "   <li>Les noms de certains chiens sont invalides (None, a, an, the, etc..) dans le DataFrame df_twitter_archive</li>\n",
    "\n",
    "   <li>Timestamp n'as pas un bon type de données dans le DataFrame df_twitter_archive</li>\n",
    "\n",
    "   <li>La colonne source contient des balises html dans le DataFrame df_twitter_archive</li>\n",
    "\n",
    "   <li>L'underscore est utilisé pour remplacer les espaces dans les colonnes p1, p2 et p3 dans le DataFrame df_image_pred</li>\n",
    "\n",
    "   <li>Il y'a 23 rating_denominator qui sont différents de 10 dans le DataFrame df_twitter_archive</li>\n",
    "\n",
    "   <li> Certains mots commencent par des majuscules et d'autres des miniscules dans les colonnes p1, p2 et p3 dans le DataFrame df_image_pred</li>\n",
    "\n",
    "   <li>La colonne id contient les memes valeurs que tweet_id.</li>\n",
    "\n",
    "</ol>\n",
    "        \n",
    "<h3>Tidiness issues</h3>\n",
    "<ol>\n",
    "   <li>Les colonnes doggo, floofler, pupper, puppo peuvent former une seule colonne</li>\n",
    "\n",
    "   <li>Toutes les données peuvent etre fusionnées pour former un seul DataFrame</li>\n",
    "</ol>\n",
    "<br>\n",
    "    \n",
    "<li><b>Nettoyage</b> : Les problèmes de qualité et de propreté détectés ont été nettoyés en fonction de l'amélioration de la qualité des données pour l'analyse et la visualisation.</li>\n",
    "\n",
    "\n",
    "</ul>"
   ]
  },
  {
   "cell_type": "code",
   "execution_count": null,
   "metadata": {},
   "outputs": [],
   "source": []
  }
 ],
 "metadata": {
  "kernelspec": {
   "display_name": "Python 3",
   "language": "python",
   "name": "python3"
  },
  "language_info": {
   "codemirror_mode": {
    "name": "ipython",
    "version": 3
   },
   "file_extension": ".py",
   "mimetype": "text/x-python",
   "name": "python",
   "nbconvert_exporter": "python",
   "pygments_lexer": "ipython3",
   "version": "3.6.3"
  }
 },
 "nbformat": 4,
 "nbformat_minor": 2
}
